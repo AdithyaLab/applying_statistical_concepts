{
 "cells": [
  {
   "cell_type": "markdown",
   "id": "7b0bcac6-5086-4f4e-928a-570a9ff7ae58",
   "metadata": {},
   "source": [
    "# Assignment 3"
   ]
  },
  {
   "cell_type": "markdown",
   "id": "5fce0350-2a17-4e93-8d4c-0b8748fdfc32",
   "metadata": {},
   "source": [
    "As before, if a question can be answered with 'yes/no', or a numeric value, you may simply state as much. If you incorporate code from the internet (which is not required and generally not advisable), please cite the source within your code (providing a URL is sufficient).\n",
    "\n",
    "We will go through comparable code and concepts in the live learning session. If you run into trouble, start by using the help `help()` function in Python, to get information about the datasets and function in question. The internet is also a great resource when coding (though note that no outside searches are required by the assignment!). If you do incorporate code from the internet, please cite the source within your code (providing a URL is sufficient).\n",
    "\n",
    "Please bring questions that you cannot work out on your own to office hours, work periods or share with your peers on Slack. We will work with you through the issue."
   ]
  },
  {
   "cell_type": "code",
   "execution_count": 1,
   "id": "b92f7c91",
   "metadata": {},
   "outputs": [],
   "source": [
    "import numpy as np\n",
    "import pandas as pd\n",
    "import matplotlib.pyplot as plt\n",
    "import statsmodels.api as sm"
   ]
  },
  {
   "cell_type": "markdown",
   "id": "d7fff1dd-e4ce-4a60-96a0-d08136e9bf5e",
   "metadata": {},
   "source": [
    "### Question 1: Resampling via Bootstrapping\n",
    "\n",
    "Now, we'll use the `iris` dataset, which we will add to Python using the `statsmodels` library. As always, start by reviewing a description of the dataset, by printing the dataset."
   ]
  },
  {
   "cell_type": "code",
   "execution_count": 2,
   "id": "47f4dcf5-0d4c-41ea-892d-d9f2c1aa1859",
   "metadata": {},
   "outputs": [
    {
     "name": "stdout",
     "output_type": "stream",
     "text": [
      "     Sepal.Length  Sepal.Width  Petal.Length  Petal.Width    Species\n",
      "0             5.1          3.5           1.4          0.2     setosa\n",
      "1             4.9          3.0           1.4          0.2     setosa\n",
      "2             4.7          3.2           1.3          0.2     setosa\n",
      "3             4.6          3.1           1.5          0.2     setosa\n",
      "4             5.0          3.6           1.4          0.2     setosa\n",
      "..            ...          ...           ...          ...        ...\n",
      "145           6.7          3.0           5.2          2.3  virginica\n",
      "146           6.3          2.5           5.0          1.9  virginica\n",
      "147           6.5          3.0           5.2          2.0  virginica\n",
      "148           6.2          3.4           5.4          2.3  virginica\n",
      "149           5.9          3.0           5.1          1.8  virginica\n",
      "\n",
      "[150 rows x 5 columns]\n"
     ]
    }
   ],
   "source": [
    "# Import\n",
    "iris = sm.datasets.get_rdataset('iris', 'datasets')\n",
    "df = pd.DataFrame(iris.data)\n",
    "\n",
    "print(df)"
   ]
  },
  {
   "cell_type": "markdown",
   "id": "7717a32c",
   "metadata": {},
   "source": [
    "_(i)_ Create an `alpha_func(D, idx)` function which takes the `Sepal`'s `width` and `length` to calculate for alpha"
   ]
  },
  {
   "cell_type": "code",
   "execution_count": 3,
   "id": "f3da5483",
   "metadata": {},
   "outputs": [],
   "source": [
    "# Your code here\n",
    "\n",
    "def alpha_func(D, idx):\n",
    "    cov_ = np.cov(D[['Sepal.Length','Sepal.Width']].loc[idx], rowvar=False)\n",
    "    return ((cov_[1,1] - cov_[0,1]) / (cov_[0,0] + cov_[1,1]-2*cov_[0,1]))"
   ]
  },
  {
   "cell_type": "markdown",
   "id": "ff94d66b",
   "metadata": {},
   "source": [
    "Test the code below"
   ]
  },
  {
   "cell_type": "code",
   "execution_count": 4,
   "id": "eda715cd",
   "metadata": {},
   "outputs": [
    {
     "data": {
      "text/plain": [
       "0.38105014898343803"
      ]
     },
     "execution_count": 4,
     "metadata": {},
     "output_type": "execute_result"
    }
   ],
   "source": [
    "alpha_func(df, range(100))"
   ]
  },
  {
   "cell_type": "markdown",
   "id": "f338b14e",
   "metadata": {},
   "source": [
    "_(ii)_ Construct a new bootstrap data set and recompute alpha"
   ]
  },
  {
   "cell_type": "code",
   "execution_count": 5,
   "id": "34ee835f",
   "metadata": {},
   "outputs": [
    {
     "data": {
      "text/plain": [
       "0.3324645134841774"
      ]
     },
     "execution_count": 5,
     "metadata": {},
     "output_type": "execute_result"
    }
   ],
   "source": [
    "rng = np.random.default_rng(0)\n",
    "alpha_func(df,\n",
    "           rng.choice(100,\n",
    "                      100,\n",
    "                      replace=True))"
   ]
  },
  {
   "cell_type": "markdown",
   "id": "056080ff-7aec-41aa-bb61-763b390e4cf2",
   "metadata": {},
   "source": [
    "Imagine we are analysts working for a shipping company. The company wants to know the average length of iris' petals, to inform space allotment on an upcoming shipment. The relevant variable in the dataset is `Sepal.Length`. \n",
    "\n",
    "_(iii)_ Why is it (perhaps) not sufficient to simply calculate the mean of `Sepal.Length`? What more information will preforming a bootstrap provide to us?  \n",
    "\n",
    "Sepal Length mean provides a single point estimate of average petal length of irises in the dataset. It does not provide information on variability or uncertainty of this single point estimate. Bootstrapping quantifies the the uncertainty of the mean and provides confidence intervals.\n",
    "\n",
    "_(iv)_ We can perform bootstrapping in Python by defining a simple function using `boot_SE()` for computing the bootstrap standard error. Remember, because bootstrapping involves randomness, we must first set a seed for reproducibility!"
   ]
  },
  {
   "cell_type": "code",
   "execution_count": 6,
   "id": "77540f76-7747-4dba-8e77-e1ded54af536",
   "metadata": {},
   "outputs": [],
   "source": [
    "# Add your code here to set the seed\n",
    "\n",
    "np.random.seed(42)\n"
   ]
  },
  {
   "cell_type": "markdown",
   "id": "8a543472",
   "metadata": {},
   "source": [
    "_(v)_ Evaluate the accuracy of our alpha estimate with B = 1000"
   ]
  },
  {
   "cell_type": "code",
   "execution_count": 7,
   "id": "9ed41c4e",
   "metadata": {},
   "outputs": [
    {
     "data": {
      "text/plain": [
       "0.03180510076860767"
      ]
     },
     "execution_count": 7,
     "metadata": {},
     "output_type": "execute_result"
    }
   ],
   "source": [
    "# Your code here\n",
    "bootstrap_values = []\n",
    "def boot_SE(D, B=1000, seed=0):\n",
    "    rng = np.random.default_rng(seed)\n",
    "    n = D.shape[0]\n",
    "   \n",
    "    for i in range(B):\n",
    "        idx = rng.choice(D.index, n, replace=True)\n",
    "        value = alpha_func(D, idx)\n",
    "        bootstrap_values.append(value)\n",
    "    return np.std(np.array(bootstrap_values))\n",
    "\n",
    "alphaSE = boot_SE(D=df, B=1000, seed=0)\n",
    "alphaSE"
   ]
  },
  {
   "cell_type": "markdown",
   "id": "2e5e0c7f",
   "metadata": {},
   "source": [
    "_(vi)_ What is the original mean value of `Sepal.Length`?"
   ]
  },
  {
   "cell_type": "code",
   "execution_count": 8,
   "id": "7c9d5004",
   "metadata": {},
   "outputs": [
    {
     "data": {
      "text/plain": [
       "5.843333333333334"
      ]
     },
     "execution_count": 8,
     "metadata": {},
     "output_type": "execute_result"
    }
   ],
   "source": [
    "# Your code here\n",
    "orig_mean_sepal = df['Sepal.Length'].mean()\n",
    "orig_mean_sepal"
   ]
  },
  {
   "cell_type": "markdown",
   "id": "785fe758-f395-40b6-a9a3-28ec2efeba29",
   "metadata": {},
   "source": [
    "Next, let's create a new bootstrapping to bootstrap samples (`boot_se_samples`) of `Sepal.Length`, in order to compute its bootstrapped mean and standard deviation.\n",
    "\n",
    "_(vii)_. Write code to review the bootstrapped mean value, and the standard deviation of the bootstrapped samples. Compare the mean against its original value. Then, review the bootstrapped range, by using `t_range = np.ptp(boot_se_samples)`."
   ]
  },
  {
   "cell_type": "code",
   "execution_count": 22,
   "id": "7686243c",
   "metadata": {},
   "outputs": [
    {
     "name": "stdout",
     "output_type": "stream",
     "text": [
      "Bootstrapped sample std dev = 0.0665\n",
      "Bootstrapped sample mean = 5.8423\n",
      "Original sample mean = 5.8433\n",
      "Bootstrapped sample range = 0.3873\n"
     ]
    }
   ],
   "source": [
    "# Add your code here\n",
    "\n",
    "boot_se_samples = []\n",
    "def boot_SE(D, B=1000, seed=0):\n",
    "    rng = np.random.default_rng(seed)\n",
    "    n = len(D)\n",
    "    for i in range(B):\n",
    "        idx_sample = rng.choice(D, n, replace=True)\n",
    "        value_mean =  idx_sample.mean()\n",
    "        boot_se_samples.append(value_mean)\n",
    "        \n",
    "    return np.std(np.array(boot_se_samples))\n",
    "\n",
    "alphaSE_SL = boot_SE(D=df['Sepal.Length'])\n",
    "print(\"Bootstrapped sample std dev = {:.4f}\".format(alphaSE_SL))\n",
    "\n",
    "\n",
    "bootstrapped_mean = np.mean(boot_se_samples)\n",
    "print(\"Bootstrapped sample mean = {:.4f}\".format(bootstrapped_mean))\n",
    "print(\"Original sample mean = {:.4f}\".format(orig_mean_sepal))\n",
    "\n",
    "\n",
    "t_range = np.ptp(boot_se_samples)\n",
    "print(\"Bootstrapped sample range = {:.4f}\".format(t_range))\n",
    "\n"
   ]
  },
  {
   "cell_type": "markdown",
   "id": "66c6c663-f3bb-4a15-8896-6dccfb7259fd",
   "metadata": {},
   "source": [
    "_(viii)_ Next, let's compute 95% confidence intervals, for the mean value of iris sepal length. (Hint: use the `np.percentile` function)"
   ]
  },
  {
   "cell_type": "code",
   "execution_count": 25,
   "id": "74de4a76-e500-4c93-82a9-e7365cc86c91",
   "metadata": {},
   "outputs": [
    {
     "name": "stdout",
     "output_type": "stream",
     "text": [
      "95% confidence interval for mean value of iris sepal length is from 5.7186 to 5.9747\n"
     ]
    }
   ],
   "source": [
    "# Add your code here\n",
    "ci_l = np.percentile(boot_se_samples, 2.5)\n",
    "ci_u = np.percentile(boot_se_samples, 97.5)\n",
    "print(\"95% confidence interval for mean value of iris sepal length is from {:.4f} to {:.4f}\".format(ci_l, ci_u))\n"
   ]
  },
  {
   "cell_type": "markdown",
   "id": "488e54f7-ebe4-4740-835c-9832320005d0",
   "metadata": {},
   "source": [
    "_(ix)_. Use the plot function to create an histogram of the bootstrapped samples. What does this histogram show ?\n",
    "\n",
    "Histogram shows the distribution of average sepal lengths from bootstrapped samples. Most frequent value is ~5.85, with a range of 5.60 to 6.05. Distribution roughly resembles a bell shaped curve."
   ]
  },
  {
   "cell_type": "code",
   "execution_count": 34,
   "id": "4fca4e3f",
   "metadata": {},
   "outputs": [
    {
     "data": {
      "image/png": "[encoded data removed]",
      "text/plain": [
       "<Figure size 640x480 with 1 Axes>"
      ]
     },
     "metadata": {},
     "output_type": "display_data"
    }
   ],
   "source": [
    "#Complete this\n",
    "\n",
    "# Create a figure and axis\n",
    "fig, ax = plt.subplots()\n",
    "\n",
    "# Create the histogram\n",
    "ax.hist(boot_se_samples, bins=30, edgecolor='black')\n",
    "\n",
    "# Add a title\n",
    "ax.set_title('Distribution of average sepal lengths from bootstrapped samples')\n",
    "\n",
    "# Add a label to the x-axis\n",
    "ax.set_xlabel('Bootstrapped Mean Sepal Length')\n",
    "\n",
    "# Add a label to the y-axis\n",
    "ax.set_ylabel('Frequency')\n",
    "\n",
    "# Show the plot\n",
    "plt.show()"
   ]
  },
  {
   "cell_type": "markdown",
   "id": "bfa9a095-9c7a-4ab5-aa99-b11bf419fae0",
   "metadata": {},
   "source": [
    "_(x)_ Given your bootstrapped analysis, what do you recommend to shipping company? \n",
    "\n",
    "Overall, I would recommend planning for an average sepal length of 5.85. Original mean and bootstrap mean are similar, and therefore robust and reliable. Confidence interval is also tight."
   ]
  },
  {
   "cell_type": "markdown",
   "id": "466943e8",
   "metadata": {},
   "source": [
    "# Criteria\n",
    "\n",
    "|Criteria            |Complete           |Incomplete          |\n",
    "|--------------------|---------------|--------------|\n",
    "|Bootstrapping|All steps are done correctly and the answers are correct.|At least one step is done incorrectly leading to a wrong answer.|"
   ]
  },
  {
   "cell_type": "markdown",
   "id": "68b8a226",
   "metadata": {},
   "source": [
    "## Submission Information\n",
    "\n",
    "🚨 **Please review our [Assignment Submission Guide](https://github.com/UofT-DSI/onboarding/blob/main/onboarding_documents/submissions.md)** 🚨 for detailed instructions on how to format, branch, and submit your work. Following these guidelines is crucial for your submissions to be evaluated correctly.\n",
    "\n",
    "### Note:\n",
    "\n",
    "If you like, you may collaborate with others in the cohort. If you choose to do so, please indicate with whom you have worked with in your pull request by tagging their GitHub username. Separate submissions are required.\n",
    "\n",
    "\n",
    "### Submission Parameters:\n",
    "* Submission Due Date: `HH:MM AM/PM - DD/MM/YYYY`\n",
    "* The branch name for your repo should be: `assignment-3`\n",
    "* What to submit for this assignment:\n",
    "    * This Jupyter Notebook (assignment_3.ipynb) should be populated and should be the only change in your pull request.\n",
    "* What the pull request link should look like for this assignment: `https://github.com/<your_github_username>/applying_statistical_concepts/pull/<pr_id>`\n",
    "    * Open a private window in your browser. Copy and paste the link to your pull request into the address bar. Make sure you can see your pull request properly. This helps the technical facilitator and learning support staff review your submission easily.\n",
    "\n",
    "Checklist:\n",
    "- [ ] Created a branch with the correct naming convention.\n",
    "- [ ] Ensured that the repository is public.\n",
    "- [ ] Reviewed the PR description guidelines and adhered to them.\n",
    "- [ ] Verify that the link is accessible in a private browser window.\n",
    "\n",
    "If you encounter any difficulties or have questions, please don't hesitate to reach out to our team via our Slack at `#cohort-3-help`. Our Technical Facilitators and Learning Support staff are here to help you navigate any challenges.\n"
   ]
  }
 ],
 "metadata": {
  "kernelspec": {
   "display_name": "Python 3.10.4",
   "language": "python",
   "name": "python3"
  },
  "language_info": {
   "codemirror_mode": {
    "name": "ipython",
    "version": 3
   },
   "file_extension": ".py",
   "mimetype": "text/x-python",
   "name": "python",
   "nbconvert_exporter": "python",
   "pygments_lexer": "ipython3",
   "version": "3.9.15"
  },
  "vscode": {
   "interpreter": {
    "hash": "497a84dc8fec8cf8d24e7e87b6d954c9a18a327edc66feb9b9ea7e9e72cc5c7e"
   }
  }
 },
 "nbformat": 4,
 "nbformat_minor": 5
}
